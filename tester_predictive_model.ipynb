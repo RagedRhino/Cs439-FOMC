{
 "cells": [
  {
   "cell_type": "code",
   "execution_count": 12,
   "id": "2dc10b27-c374-4652-bfbe-76b389d6fa02",
   "metadata": {},
   "outputs": [
    {
     "name": "stderr",
     "output_type": "stream",
     "text": [
      "[nltk_data] Downloading package punkt to /home/si295/nltk_data...\n",
      "[nltk_data]   Package punkt is already up-to-date!\n",
      "[nltk_data] Downloading package stopwords to /home/si295/nltk_data...\n",
      "[nltk_data]   Package stopwords is already up-to-date!\n",
      "[nltk_data] Downloading package wordnet to /home/si295/nltk_data...\n",
      "[nltk_data]   Package wordnet is already up-to-date!\n"
     ]
    },
    {
     "name": "stdout",
     "output_type": "stream",
     "text": [
      "\n",
      "Overall Accuracy: 88.89%\n",
      "\n",
      "Prediction Results by Market Direction:\n",
      "predicted_market_reaction  Down   Up\n",
      "actual_market_reaction              \n",
      "Down                        8.0  NaN\n",
      "Up                          2.0  8.0\n",
      "\n",
      "Detailed results saved to 'prediction_results.csv'\n"
     ]
    }
   ],
   "source": [
    "import pandas as pd\n",
    "import joblib\n",
    "from predictive_model import FOMCPredictor\n",
    "import numpy as np\n",
    "\n",
    "def test_model():\n",
    "    # Load the test data\n",
    "    df = pd.read_csv('merged_fomc_market_data.csv')\n",
    "    \n",
    "    # Load the trained model and vectorizer\n",
    "    model = joblib.load('fomc_predictor.joblib')\n",
    "    tfidf = joblib.load('fomc_tfidf.joblib')\n",
    "    \n",
    "    # Create predictor instance\n",
    "    predictor = FOMCPredictor()\n",
    "    predictor.model = model\n",
    "    predictor.tfidf = tfidf\n",
    "    \n",
    "    # Create results dataframe\n",
    "    results = []\n",
    "    \n",
    "    # Test each speech\n",
    "    for _, row in df.iterrows():\n",
    "        prediction, probabilities = predictor.predict(row['clean_text'], row['speech_length'])\n",
    "        \n",
    "        results.append({\n",
    "            'date': row['date'],\n",
    "            'actual_market_reaction': row['market_reaction_up_or_down'],\n",
    "            'predicted_market_reaction': prediction,\n",
    "            'prediction_confidence': max(probabilities),\n",
    "            'correct_prediction': prediction == row['market_reaction_up_or_down']\n",
    "        })\n",
    "    \n",
    "    # Convert results to DataFrame\n",
    "    results_df = pd.DataFrame(results)\n",
    "    \n",
    "    # Calculate overall accuracy\n",
    "    accuracy = (results_df['correct_prediction'].sum() / len(results_df)) * 100\n",
    "    \n",
    "    # Print summary statistics\n",
    "    print(f\"\\nOverall Accuracy: {accuracy:.2f}%\")\n",
    "    print(\"\\nPrediction Results by Market Direction:\")\n",
    "    print(results_df.groupby(['actual_market_reaction', 'predicted_market_reaction']).size().unstack())\n",
    "    \n",
    "    # Save results to CSV\n",
    "    results_df.to_csv('prediction_results.csv', index=False)\n",
    "    print(\"\\nDetailed results saved to 'prediction_results.csv'\")\n",
    "\n",
    "if __name__ == '__main__':\n",
    "    test_model()\n"
   ]
  },
  {
   "cell_type": "code",
   "execution_count": null,
   "id": "b22bee82-55e2-430c-8fad-a50f83ae6c5b",
   "metadata": {},
   "outputs": [],
   "source": []
  }
 ],
 "metadata": {
  "kernelspec": {
   "display_name": "Python 3 (ipykernel)",
   "language": "python",
   "name": "python3"
  },
  "language_info": {
   "codemirror_mode": {
    "name": "ipython",
    "version": 3
   },
   "file_extension": ".py",
   "mimetype": "text/x-python",
   "name": "python",
   "nbconvert_exporter": "python",
   "pygments_lexer": "ipython3",
   "version": "3.12.7"
  }
 },
 "nbformat": 4,
 "nbformat_minor": 5
}
