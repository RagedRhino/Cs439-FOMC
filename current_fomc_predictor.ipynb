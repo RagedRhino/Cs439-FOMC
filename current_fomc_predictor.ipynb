{
 "cells": [
  {
   "cell_type": "code",
   "execution_count": null,
   "id": "5627464f-b682-445d-930b-89a143ff07a3",
   "metadata": {},
   "outputs": [],
   "source": [
    "import joblib\n",
    "from predictive_model import FOMCPredictor\n",
    "\n",
    "def predict_current_fomc(speech_text):\n",
    "    \"\"\"\n",
    "    Predict market reaction for a current FOMC speech\n",
    "    \n",
    "    Args:\n",
    "        speech_text (str): The text of the current FOMC speech\n",
    "        \n",
    "    Returns:\n",
    "        tuple: (prediction, confidence) where prediction is 'Up' or 'Down'\n",
    "               and confidence is the probability of the prediction\n",
    "    \"\"\"\n",
    "    try:\n",
    "        # Load the trained model and vectorizer\n",
    "        model = joblib.load('fomc_predictor.joblib')\n",
    "        tfidf = joblib.load('fomc_tfidf.joblib')\n",
    "        \n",
    "        # Create predictor instance\n",
    "        predictor = FOMCPredictor()\n",
    "        predictor.model = model\n",
    "        predictor.tfidf = tfidf\n",
    "        \n",
    "        # Get speech length\n",
    "        speech_length = len(speech_text.split())\n",
    "        \n",
    "        # Make prediction\n",
    "        prediction, probabilities = predictor.predict(speech_text, speech_length)\n",
    "        confidence = max(probabilities)\n",
    "        \n",
    "        # Print results\n",
    "        print(\"\\nFOMC Speech Analysis Results:\")\n",
    "        print(\"-\" * 30)\n",
    "        print(f\"Predicted Market Reaction: {prediction}\")\n",
    "        print(f\"Confidence: {confidence:.2%}\")\n",
    "        \n",
    "        return prediction, confidence\n",
    "        \n",
    "    except Exception as e:\n",
    "        print(f\"Error making prediction: {str(e)}\")\n",
    "        return None, None\n",
    "\n",
    "if __name__ == '__main__':\n",
    "    # Example usage\n",
    "    print(\"Enter the FOMC speech text (press Ctrl+D or Ctrl+Z when finished):\")\n",
    "    speech_lines = []\n",
    "    try:\n",
    "        while True:\n",
    "            line = input()\n",
    "            speech_lines.append(line)\n",
    "    except EOFError:\n",
    "        speech_text = ' '.join(speech_lines)\n",
    "        predict_current_fomc(speech_text)\n"
   ]
  }
 ],
 "metadata": {
  "kernelspec": {
   "display_name": "Python 3 (ipykernel)",
   "language": "python",
   "name": "python3"
  },
  "language_info": {
   "codemirror_mode": {
    "name": "ipython",
    "version": 3
   },
   "file_extension": ".py",
   "mimetype": "text/x-python",
   "name": "python",
   "nbconvert_exporter": "python",
   "pygments_lexer": "ipython3",
   "version": "3.12.7"
  }
 },
 "nbformat": 4,
 "nbformat_minor": 5
}
