{
 "cells": [
  {
   "cell_type": "code",
   "execution_count": 1,
   "id": "1e40e433-01ad-4d1c-8709-11532aa607a3",
   "metadata": {},
   "outputs": [],
   "source": [
    "import requests "
   ]
  },
  {
   "cell_type": "code",
   "execution_count": null,
   "id": "36fc5dee-a4e2-49bd-aee9-e0ca68bd4984",
   "metadata": {},
   "outputs": [],
   "source": [
    "# scraping Federal open market committee speeches page\n",
    "URL = \"https://www.federalreserve.gov/monetarypolicy/fomccalendars.htm\"\n",
    "r = requests.get(URL)\n",
    "print(r.content)\n"
   ]
  },
  {
   "cell_type": "code",
   "execution_count": 3,
   "id": "ed3b1a54-d7df-4d4a-80f6-299e88f5678b",
   "metadata": {},
   "outputs": [],
   "source": [
    "from bs4 import BeautifulSoup"
   ]
  },
  {
   "cell_type": "code",
   "execution_count": null,
   "id": "33607bfc-5329-40f9-879a-833241b74e0b",
   "metadata": {},
   "outputs": [],
   "source": [
    "URl = \"https://www.federalreserve.gov/monetarypolicy/fomccalendars.htm\"\n",
    "r = requests.get(URL)\n",
    "\n",
    "soup = BeautifulSoup(r.content, 'html5lib')\n",
    "print(soup.prettify())\n"
   ]
  },
  {
   "cell_type": "code",
   "execution_count": 7,
   "id": "916e6850-ae98-49c5-bf29-e67a71794733",
   "metadata": {},
   "outputs": [],
   "source": [
    "url = 'https://www.federalreserve.gov/monetarypolicy/fomccalendars.htm'\n",
    "r = requests.get(url)\n",
    "soup = BeautifulSoup(r.content, 'html.parser')"
   ]
  },
  {
   "cell_type": "code",
   "execution_count": 8,
   "id": "be29a63f-6882-4de3-8990-7de5df16a8cb",
   "metadata": {},
   "outputs": [],
   "source": [
    "# we have the main page soup, we're now going to scan all the <a> tags for links on the page\n",
    "all_links = soup.find_all('a')\n",
    "#list for storing links to last 20 press release statements from FOMC\n",
    "press_links = []\n",
    "#going to loop through the links and pick out ones that are monetary press release statements\n",
    "for link in all_links:\n",
    "    href = link.get('href')\n",
    "    text = link.text.strip()\n",
    "    if href and 'pressreleases/monetary' in href and text == 'HTML':\n",
    "        press_links.append(href)\n",
    "        "
   ]
  },
  {
   "cell_type": "code",
   "execution_count": 11,
   "id": "307d60dc-b8e2-4348-8ef1-e7d7f4735ff4",
   "metadata": {},
   "outputs": [],
   "source": [
    "\n",
    "\n",
    "base_url = \"https://www.federalreserve.gov\"\n",
    "full_links = [base_url + link for link in press_links]\n"
   ]
  },
  {
   "cell_type": "code",
   "execution_count": 12,
   "id": "eac5666d-09a8-4368-9361-8bd1a9b9c6ee",
   "metadata": {},
   "outputs": [
    {
     "name": "stdout",
     "output_type": "stream",
     "text": [
      "['https://www.federalreserve.gov/newsevents/pressreleases/monetary20250129a.htm', 'https://www.federalreserve.gov/newsevents/pressreleases/monetary20250319a.htm', 'https://www.federalreserve.gov/newsevents/pressreleases/monetary20240131a.htm', 'https://www.federalreserve.gov/newsevents/pressreleases/monetary20240320a.htm', 'https://www.federalreserve.gov/newsevents/pressreleases/monetary20240501a.htm', 'https://www.federalreserve.gov/newsevents/pressreleases/monetary20240612a.htm', 'https://www.federalreserve.gov/newsevents/pressreleases/monetary20240731a.htm', 'https://www.federalreserve.gov/newsevents/pressreleases/monetary20240918a.htm', 'https://www.federalreserve.gov/newsevents/pressreleases/monetary20241107a.htm', 'https://www.federalreserve.gov/newsevents/pressreleases/monetary20241218a.htm', 'https://www.federalreserve.gov/newsevents/pressreleases/monetary20230201a.htm', 'https://www.federalreserve.gov/newsevents/pressreleases/monetary20230322a.htm', 'https://www.federalreserve.gov/newsevents/pressreleases/monetary20230503a.htm', 'https://www.federalreserve.gov/newsevents/pressreleases/monetary20230614a.htm', 'https://www.federalreserve.gov/newsevents/pressreleases/monetary20230726a.htm', 'https://www.federalreserve.gov/newsevents/pressreleases/monetary20230920a.htm', 'https://www.federalreserve.gov/newsevents/pressreleases/monetary20231101a.htm', 'https://www.federalreserve.gov/newsevents/pressreleases/monetary20231213a.htm', 'https://www.federalreserve.gov/newsevents/pressreleases/monetary20220126a.htm', 'https://www.federalreserve.gov/newsevents/pressreleases/monetary20220316a.htm', 'https://www.federalreserve.gov/newsevents/pressreleases/monetary20220504a.htm', 'https://www.federalreserve.gov/newsevents/pressreleases/monetary20220615a.htm', 'https://www.federalreserve.gov/newsevents/pressreleases/monetary20220727a.htm', 'https://www.federalreserve.gov/newsevents/pressreleases/monetary20220921a.htm', 'https://www.federalreserve.gov/newsevents/pressreleases/monetary20221102a.htm', 'https://www.federalreserve.gov/newsevents/pressreleases/monetary20221214a.htm', 'https://www.federalreserve.gov/newsevents/pressreleases/monetary20210127a.htm', 'https://www.federalreserve.gov/newsevents/pressreleases/monetary20210317a.htm', 'https://www.federalreserve.gov/newsevents/pressreleases/monetary20210428a.htm', 'https://www.federalreserve.gov/newsevents/pressreleases/monetary20210616a.htm', 'https://www.federalreserve.gov/newsevents/pressreleases/monetary20210728a.htm', 'https://www.federalreserve.gov/newsevents/pressreleases/monetary20210922a.htm', 'https://www.federalreserve.gov/newsevents/pressreleases/monetary20211103a.htm', 'https://www.federalreserve.gov/newsevents/pressreleases/monetary20211215a.htm', 'https://www.federalreserve.gov/newsevents/pressreleases/monetary20200129a.htm', 'https://www.federalreserve.gov/newsevents/pressreleases/monetary20200303a.htm', 'https://www.federalreserve.gov/newsevents/pressreleases/monetary20200315a.htm', 'https://www.federalreserve.gov/newsevents/pressreleases/monetary20200323a.htm', 'https://www.federalreserve.gov/newsevents/pressreleases/monetary20200429a.htm', 'https://www.federalreserve.gov/newsevents/pressreleases/monetary20200610a.htm', 'https://www.federalreserve.gov/newsevents/pressreleases/monetary20200729a.htm', 'https://www.federalreserve.gov/newsevents/pressreleases/monetary20200916a.htm', 'https://www.federalreserve.gov/newsevents/pressreleases/monetary20201105a.htm', 'https://www.federalreserve.gov/newsevents/pressreleases/monetary20201216a.htm']\n"
     ]
    }
   ],
   "source": [
    "print(full_links)"
   ]
  },
  {
   "cell_type": "code",
   "execution_count": 15,
   "id": "eeb89777-9a52-49c1-819e-36738ed1222f",
   "metadata": {},
   "outputs": [
    {
     "name": "stdout",
     "output_type": "stream",
     "text": [
      "44\n"
     ]
    }
   ],
   "source": [
    "list_length = len(full_links)\n",
    "print(list_length)"
   ]
  },
  {
   "cell_type": "code",
   "execution_count": 19,
   "id": "ad865beb-c862-4904-bdfe-3562240bd7ab",
   "metadata": {},
   "outputs": [
    {
     "name": "stdout",
     "output_type": "stream",
     "text": [
      "['https://www.federalreserve.gov/newsevents/pressreleases/monetary20250129a.htm', 'https://www.federalreserve.gov/newsevents/pressreleases/monetary20250319a.htm', 'https://www.federalreserve.gov/newsevents/pressreleases/monetary20240131a.htm', 'https://www.federalreserve.gov/newsevents/pressreleases/monetary20240320a.htm', 'https://www.federalreserve.gov/newsevents/pressreleases/monetary20240501a.htm', 'https://www.federalreserve.gov/newsevents/pressreleases/monetary20240612a.htm', 'https://www.federalreserve.gov/newsevents/pressreleases/monetary20240731a.htm', 'https://www.federalreserve.gov/newsevents/pressreleases/monetary20240918a.htm', 'https://www.federalreserve.gov/newsevents/pressreleases/monetary20241107a.htm', 'https://www.federalreserve.gov/newsevents/pressreleases/monetary20241218a.htm', 'https://www.federalreserve.gov/newsevents/pressreleases/monetary20230201a.htm', 'https://www.federalreserve.gov/newsevents/pressreleases/monetary20230322a.htm', 'https://www.federalreserve.gov/newsevents/pressreleases/monetary20230503a.htm', 'https://www.federalreserve.gov/newsevents/pressreleases/monetary20230614a.htm', 'https://www.federalreserve.gov/newsevents/pressreleases/monetary20230726a.htm', 'https://www.federalreserve.gov/newsevents/pressreleases/monetary20230920a.htm', 'https://www.federalreserve.gov/newsevents/pressreleases/monetary20231101a.htm', 'https://www.federalreserve.gov/newsevents/pressreleases/monetary20231213a.htm']\n",
      "18\n"
     ]
    }
   ],
   "source": [
    "cutoff_url = 'https://www.federalreserve.gov/newsevents/pressreleases/monetary20231213a.htm'\n",
    "filtered_links = []\n",
    "for link in full_links:\n",
    "    filtered_links.append(link)\n",
    "    if link == cutoff_url:\n",
    "        break\n",
    "print(filtered_links)\n",
    "print(len(filtered_links))"
   ]
  },
  {
   "cell_type": "code",
   "execution_count": 27,
   "id": "02023d53-8f4e-4228-8c48-eedd7d032dc9",
   "metadata": {},
   "outputs": [
    {
     "name": "stdout",
     "output_type": "stream",
     "text": [
      "        date                                     statement_text\n",
      "0   20250129  Recent indicators suggest that economic activi...\n",
      "1   20250319  Recent indicators suggest that economic activi...\n",
      "2   20240131  Recent indicators suggest that economic activi...\n",
      "3   20240320  Recent indicators suggest that economic activi...\n",
      "4   20240501  Recent indicators suggest that economic activi...\n",
      "5   20240612  Recent indicators suggest that economic activi...\n",
      "6   20240731  Recent indicators suggest that economic activi...\n",
      "7   20240918  Recent indicators suggest that economic activi...\n",
      "8   20241107  Recent indicators suggest that economic activi...\n",
      "9   20241218  Recent indicators suggest that economic activi...\n",
      "10  20230201  Recent indicators point to modest growth in sp...\n",
      "11  20230322  Recent indicators point to modest growth in sp...\n",
      "12  20230503  Economic activity expanded at a modest pace in...\n",
      "13  20230614  Recent indicators suggest that economic activi...\n",
      "14  20230726  Recent indicators suggest that economic activi...\n",
      "15  20230920  Recent indicators suggest that economic activi...\n",
      "16  20231101  Recent indicators suggest that economic activi...\n",
      "17  20231213  Recent indicators suggest that growth of econo...\n"
     ]
    }
   ],
   "source": [
    "# list to hold our speech data\n",
    "all_statements = []\n",
    "for url in filtered_links:\n",
    "    #downloading the page\n",
    "    r = requests.get(url)\n",
    "    soup = BeautifulSoup(r.content, 'html.parser')\n",
    "    #extracting the <div> with the text\n",
    "    div = soup.find('div', class_=\"col-xs-12 col-sm-8 col-md-8\")\n",
    "    # extracting the text \n",
    "    statement_text = div.get_text(separator=\" \", strip=True) if div else \"\"\n",
    "    # getting the date\n",
    "    date_str = url[-13:-5]\n",
    "    all_statements.append({\n",
    "        'date' : date_str, \n",
    "        'statement_text': statement_text})\n",
    "\n",
    "import pandas as pd\n",
    "df = pd.DataFrame(all_statements)\n",
    "df.to_csv('fomc_statements_2023_2025.csv', index = False)\n",
    "print(df)\n"
   ]
  },
  {
   "cell_type": "code",
   "execution_count": 25,
   "id": "a387ada9-2387-4e28-8609-6e32de10d682",
   "metadata": {},
   "outputs": [
    {
     "name": "stdout",
     "output_type": "stream",
     "text": [
      "       date                                     statement_text\n",
      "0  20250129  Recent indicators suggest that economic activi...\n",
      "1  20250319  Recent indicators suggest that economic activi...\n",
      "2  20240131  Recent indicators suggest that economic activi...\n",
      "3  20240320  Recent indicators suggest that economic activi...\n",
      "4  20240501  Recent indicators suggest that economic activi...\n"
     ]
    }
   ],
   "source": [
    "print(df.head())"
   ]
  },
  {
   "cell_type": "code",
   "execution_count": 28,
   "id": "f2f0c005-888a-48e7-a5f7-3be336897c82",
   "metadata": {},
   "outputs": [
    {
     "name": "stdout",
     "output_type": "stream",
     "text": [
      "Recent indicators suggest that economic activity has continued to expand at a solid pace. The unemployment rate has stabilized at a low level in recent months, and labor market conditions remain solid. Inflation remains somewhat elevated. The Committee seeks to achieve maximum employment and inflation at the rate of 2 percent over the longer run. The Committee judges that the risks to achieving its employment and inflation goals are roughly in balance. The economic outlook is uncertain, and the Committee is attentive to the risks to both sides of its dual mandate. In support of its goals, the Committee decided to maintain the target range for the federal funds rate at 4-1/4 to 4-1/2 percent. In considering the extent and timing of additional adjustments to the target range for the federal funds rate, the Committee will carefully assess incoming data, the evolving outlook, and the balance of risks. The Committee will continue reducing its holdings of Treasury securities and agency debt and agency mortgage‑backed securities. The Committee is strongly committed to supporting maximum employment and returning inflation to its 2 percent objective. In assessing the appropriate stance of monetary policy, the Committee will continue to monitor the implications of incoming information for the economic outlook. The Committee would be prepared to adjust the stance of monetary policy as appropriate if risks emerge that could impede the attainment of the Committee's goals. The Committee's assessments will take into account a wide range of information, including readings on labor market conditions, inflation pressures and inflation expectations, and financial and international developments. Voting for the monetary policy action were Jerome H. Powell, Chair; John C. Williams, Vice Chair; Michael S. Barr; Michelle W. Bowman; Susan M. Collins; Lisa D. Cook; Austan D. Goolsbee; Philip N. Jefferson; Adriana D. Kugler; Alberto G. Musalem; Jeffrey R. Schmid; and Christopher J. Waller. For media inquiries, please email [email protected] or call 202-452-2955. Implementation Note issued January 29, 2025\n"
     ]
    }
   ],
   "source": [
    "print(df['statement_text'][0])"
   ]
  },
  {
   "cell_type": "code",
   "execution_count": null,
   "id": "4f5a0e5c-386e-41cd-9029-91775ea3a9fa",
   "metadata": {},
   "outputs": [],
   "source": []
  }
 ],
 "metadata": {
  "kernelspec": {
   "display_name": "Python 3 (ipykernel)",
   "language": "python",
   "name": "python3"
  },
  "language_info": {
   "codemirror_mode": {
    "name": "ipython",
    "version": 3
   },
   "file_extension": ".py",
   "mimetype": "text/x-python",
   "name": "python",
   "nbconvert_exporter": "python",
   "pygments_lexer": "ipython3",
   "version": "3.12.7"
  }
 },
 "nbformat": 4,
 "nbformat_minor": 5
}
