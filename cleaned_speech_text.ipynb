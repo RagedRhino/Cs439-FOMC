{
 "cells": [
  {
   "cell_type": "code",
   "execution_count": 1,
   "id": "4c6f4df3-a2d7-4a22-ab1b-aa58516e687f",
   "metadata": {},
   "outputs": [],
   "source": [
    "# lowercase for all speeches \n",
    "import pandas as pd\n",
    "df = pd.read_csv('fomc_statements_2023_2025.csv')\n"
   ]
  },
  {
   "cell_type": "code",
   "execution_count": 2,
   "id": "6bde95c0-ebd0-4a1f-a183-5e6751c9074b",
   "metadata": {},
   "outputs": [],
   "source": [
    "df['clean_text'] = df['statement_text'].str.lower()\n",
    "\n",
    "df.to_csv('fomc_statements_2023_2025.csv', index=False)\n",
    "\n"
   ]
  },
  {
   "cell_type": "code",
   "execution_count": 3,
   "id": "3369e762-066b-420c-bd36-fbfe686b4971",
   "metadata": {},
   "outputs": [
    {
     "name": "stdout",
     "output_type": "stream",
     "text": [
      "recent indicators suggest that economic activity has continued to expand at a solid pace. the unemployment rate has stabilized at a low level in recent months, and labor market conditions remain solid. inflation remains somewhat elevated. the committee seeks to achieve maximum employment and inflation at the rate of 2 percent over the longer run. the committee judges that the risks to achieving its employment and inflation goals are roughly in balance. the economic outlook is uncertain, and the committee is attentive to the risks to both sides of its dual mandate. in support of its goals, the committee decided to maintain the target range for the federal funds rate at 4-1/4 to 4-1/2 percent. in considering the extent and timing of additional adjustments to the target range for the federal funds rate, the committee will carefully assess incoming data, the evolving outlook, and the balance of risks. the committee will continue reducing its holdings of treasury securities and agency debt and agency mortgage‑backed securities. the committee is strongly committed to supporting maximum employment and returning inflation to its 2 percent objective. in assessing the appropriate stance of monetary policy, the committee will continue to monitor the implications of incoming information for the economic outlook. the committee would be prepared to adjust the stance of monetary policy as appropriate if risks emerge that could impede the attainment of the committee's goals. the committee's assessments will take into account a wide range of information, including readings on labor market conditions, inflation pressures and inflation expectations, and financial and international developments. voting for the monetary policy action were jerome h. powell, chair; john c. williams, vice chair; michael s. barr; michelle w. bowman; susan m. collins; lisa d. cook; austan d. goolsbee; philip n. jefferson; adriana d. kugler; alberto g. musalem; jeffrey r. schmid; and christopher j. waller. for media inquiries, please email [email protected] or call 202-452-2955. implementation note issued january 29, 2025\n"
     ]
    }
   ],
   "source": [
    "print(df['clean_text'].iloc[0])"
   ]
  },
  {
   "cell_type": "code",
   "execution_count": 4,
   "id": "59f5714d-53fb-48b2-aee5-5e832000479c",
   "metadata": {},
   "outputs": [],
   "source": [
    "import re\n"
   ]
  },
  {
   "cell_type": "code",
   "execution_count": 5,
   "id": "413d8dff-66c0-4efc-8d46-d0aff7a2baaf",
   "metadata": {},
   "outputs": [],
   "source": [
    "def remove_final_paragraph(clean_text):\n",
    "    pattern = r\"voting for the monetary policy action.*?implementation note issued.*?$\"\n",
    "    return re.sub(pattern, ' ', clean_text, flags =re.DOTALL)\n",
    "\n",
    "df['clean_text'] = df['clean_text'].apply(remove_final_paragraph)\n"
   ]
  },
  {
   "cell_type": "code",
   "execution_count": 6,
   "id": "82878437-bf95-4718-8b20-2be6317852b1",
   "metadata": {},
   "outputs": [
    {
     "name": "stdout",
     "output_type": "stream",
     "text": [
      "recent indicators suggest that economic activity has continued to expand at a solid pace. the unemployment rate has stabilized at a low level in recent months, and labor market conditions remain solid. inflation remains somewhat elevated. the committee seeks to achieve maximum employment and inflation at the rate of 2 percent over the longer run. the committee judges that the risks to achieving its employment and inflation goals are roughly in balance. the economic outlook is uncertain, and the committee is attentive to the risks to both sides of its dual mandate. in support of its goals, the committee decided to maintain the target range for the federal funds rate at 4-1/4 to 4-1/2 percent. in considering the extent and timing of additional adjustments to the target range for the federal funds rate, the committee will carefully assess incoming data, the evolving outlook, and the balance of risks. the committee will continue reducing its holdings of treasury securities and agency debt and agency mortgage‑backed securities. the committee is strongly committed to supporting maximum employment and returning inflation to its 2 percent objective. in assessing the appropriate stance of monetary policy, the committee will continue to monitor the implications of incoming information for the economic outlook. the committee would be prepared to adjust the stance of monetary policy as appropriate if risks emerge that could impede the attainment of the committee's goals. the committee's assessments will take into account a wide range of information, including readings on labor market conditions, inflation pressures and inflation expectations, and financial and international developments.  \n"
     ]
    }
   ],
   "source": [
    "print(df['clean_text'].iloc[0])"
   ]
  },
  {
   "cell_type": "code",
   "execution_count": 7,
   "id": "eb2e5819-9047-412e-9329-a49a61275fe4",
   "metadata": {},
   "outputs": [
    {
     "name": "stdout",
     "output_type": "stream",
     "text": [
      "recent indicators suggest that economic activity has continued to expand at a solid pace. the unemployment rate has stabilized at a low level in recent months, and labor market conditions remain solid. inflation remains somewhat elevated. the committee seeks to achieve maximum employment and inflation at the rate of 2 percent over the longer run. uncertainty around the economic outlook has increased. the committee is attentive to the risks to both sides of its dual mandate. in support of its goals, the committee decided to maintain the target range for the federal funds rate at 4-1/4 to 4-1/2 percent. in considering the extent and timing of additional adjustments to the target range for the federal funds rate, the committee will carefully assess incoming data, the evolving outlook, and the balance of risks. the committee will continue reducing its holdings of treasury securities and agency debt and agency mortgage‑backed securities. beginning in april, the committee will slow the pace of decline of its securities holdings by reducing the monthly redemption cap on treasury securities from $25 billion to $5 billion. the committee will maintain the monthly redemption cap on agency debt and agency mortgage-backed securities at $35 billion. the committee is strongly committed to supporting maximum employment and returning inflation to its 2 percent objective. in assessing the appropriate stance of monetary policy, the committee will continue to monitor the implications of incoming information for the economic outlook. the committee would be prepared to adjust the stance of monetary policy as appropriate if risks emerge that could impede the attainment of the committee's goals. the committee's assessments will take into account a wide range of information, including readings on labor market conditions, inflation pressures and inflation expectations, and financial and international developments.  \n"
     ]
    }
   ],
   "source": [
    "print(df['clean_text'].iloc[1])"
   ]
  },
  {
   "cell_type": "code",
   "execution_count": 8,
   "id": "c65bc4dc-66fd-4c68-84de-959f30e73d08",
   "metadata": {},
   "outputs": [
    {
     "name": "stdout",
     "output_type": "stream",
     "text": [
      "recent indicators suggest that economic activity has been expanding at a solid pace. job gains have moderated since early last year but remain strong, and the unemployment rate has remained low. inflation has eased over the past year but remains elevated. the committee seeks to achieve maximum employment and inflation at the rate of 2 percent over the longer run. the committee judges that the risks to achieving its employment and inflation goals are moving into better balance. the economic outlook is uncertain, and the committee remains highly attentive to inflation risks. in support of its goals, the committee decided to maintain the target range for the federal funds rate at 5-1/4 to 5-1/2 percent. in considering any adjustments to the target range for the federal funds rate, the committee will carefully assess incoming data, the evolving outlook, and the balance of risks. the committee does not expect it will be appropriate to reduce the target range until it has gained greater confidence that inflation is moving sustainably toward 2 percent. in addition, the committee will continue reducing its holdings of treasury securities and agency debt and agency mortgage-backed securities, as described in its previously announced plans. the committee is strongly committed to returning inflation to its 2 percent objective. in assessing the appropriate stance of monetary policy, the committee will continue to monitor the implications of incoming information for the economic outlook. the committee would be prepared to adjust the stance of monetary policy as appropriate if risks emerge that could impede the attainment of the committee's goals. the committee's assessments will take into account a wide range of information, including readings on labor market conditions, inflation pressures and inflation expectations, and financial and international developments.  \n"
     ]
    }
   ],
   "source": [
    "print(df['clean_text'].iloc[2])"
   ]
  },
  {
   "cell_type": "code",
   "execution_count": 9,
   "id": "ee137319-aeb0-4191-9886-80117f316b5e",
   "metadata": {},
   "outputs": [],
   "source": [
    "df.to_csv('fomc_statements_2023_2025.csv', index=False)"
   ]
  },
  {
   "cell_type": "code",
   "execution_count": 10,
   "id": "077138c6-5de3-4273-be21-31e11fb0e1e7",
   "metadata": {},
   "outputs": [],
   "source": [
    "df = df.drop(columns=['Unnamed: 0', 'Unnamed: 0.1', 'Unnamed: 0.2'])"
   ]
  },
  {
   "cell_type": "code",
   "execution_count": 11,
   "id": "cb4bc5af-9b13-4a6d-bf70-e4906bb821fe",
   "metadata": {},
   "outputs": [],
   "source": [
    "df.to_csv('fomc_statements_2023_2025.csv', index=False)"
   ]
  },
  {
   "cell_type": "code",
   "execution_count": null,
   "id": "3601672d-96e3-440a-8a27-f73f236a53fe",
   "metadata": {},
   "outputs": [],
   "source": []
  }
 ],
 "metadata": {
  "kernelspec": {
   "display_name": "Python 3 (ipykernel)",
   "language": "python",
   "name": "python3"
  },
  "language_info": {
   "codemirror_mode": {
    "name": "ipython",
    "version": 3
   },
   "file_extension": ".py",
   "mimetype": "text/x-python",
   "name": "python",
   "nbconvert_exporter": "python",
   "pygments_lexer": "ipython3",
   "version": "3.12.7"
  }
 },
 "nbformat": 4,
 "nbformat_minor": 5
}
